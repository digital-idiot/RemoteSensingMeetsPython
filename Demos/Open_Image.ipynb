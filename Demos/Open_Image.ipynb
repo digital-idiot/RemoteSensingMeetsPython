{
 "cells": [
  {
   "cell_type": "markdown",
   "metadata": {},
   "source": [
    "# Opening a Geospatial Image in Python"
   ]
  },
  {
   "cell_type": "markdown",
   "metadata": {},
   "source": [
    "First import rasterio to be able to read / write the geospatial images"
   ]
  },
  {
   "cell_type": "code",
   "execution_count": null,
   "metadata": {},
   "outputs": [],
   "source": [
    "import rasterio as rio"
   ]
  },
  {
   "cell_type": "markdown",
   "metadata": {},
   "source": [
    "Now we can open an geospatial image using the methods provided by `rasterio`. Here we will be opening an image available in the subdirectory `data`. The concerned can refered using their `file path`, which is `path` of directory where the file is located followed by the `file name` separated by the appropriate separator depending upon the platform. It is wirth mentioning that the `path` can be relative. Opening a supported image can be as simple as shown below. Notice that, in this case relative path has been used."
   ]
  },
  {
   "cell_type": "code",
   "execution_count": null,
   "metadata": {},
   "outputs": [],
   "source": [
    "file_ptr = rio.open(\"Data/RGBIR_Potsdam_07_12_1_1.tif\")"
   ]
  },
  {
   "cell_type": "markdown",
   "metadata": {},
   "source": [
    "However, `rasterio` closely follws pythonic philosophy of file handling. Thus, an image can be opened using `with` block. In this case the file pointer is freed automaticaly when the control sequence comes out of the `with` block which is not only convenient but also efficient in terms of memory."
   ]
  },
  {
   "cell_type": "code",
   "execution_count": null,
   "metadata": {},
   "outputs": [],
   "source": []
  }
 ],
 "metadata": {
  "kernelspec": {
   "display_name": "Python 3",
   "language": "python",
   "name": "python3"
  },
  "language_info": {
   "codemirror_mode": {
    "name": "ipython",
    "version": 3
   },
   "file_extension": ".py",
   "mimetype": "text/x-python",
   "name": "python",
   "nbconvert_exporter": "python",
   "pygments_lexer": "ipython3",
   "version": "3.7.8"
  }
 },
 "nbformat": 4,
 "nbformat_minor": 4
}
